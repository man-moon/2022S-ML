{
  "cells": [
    {
      "cell_type": "markdown",
      "metadata": {
        "id": "view-in-github",
        "colab_type": "text"
      },
      "source": [
        "<a href=\"https://colab.research.google.com/github/man-moon/2022S-ML/blob/main/HW3_201820744_%EA%B9%80%EB%AC%B8%EB%A7%8C.ipynb\" target=\"_parent\"><img src=\"https://colab.research.google.com/assets/colab-badge.svg\" alt=\"Open In Colab\"/></a>"
      ]
    },
    {
      "cell_type": "markdown",
      "metadata": {
        "id": "m1rbIpJvJD_m"
      },
      "source": [
        "# **HW3 :: Parameter Tuning and Classifcation**"
      ]
    },
    {
      "cell_type": "markdown",
      "metadata": {
        "id": "6c34x6aJI_kE"
      },
      "source": [
        "## 코랩과 구글 드라이브 연동 OR 로컬에서 파일 업로드\n",
        "- 해당 섹션 코드 수정 가능"
      ]
    },
    {
      "cell_type": "code",
      "execution_count": null,
      "metadata": {
        "id": "PLXjmIbsJMlk"
      },
      "outputs": [],
      "source": [
        "# 연동 OR 파일 업로드\n",
        "# 연동 시 path 설정 주의"
      ]
    },
    {
      "cell_type": "code",
      "execution_count": null,
      "metadata": {
        "colab": {
          "base_uri": "https://localhost:8080/"
        },
        "id": "4VXRY6hDJ60i",
        "outputId": "03935015-bcc1-421a-fb7c-1cffcf8eaaa0"
      },
      "outputs": [
        {
          "ename": "ModuleNotFoundError",
          "evalue": "No module named 'google'",
          "output_type": "error",
          "traceback": [
            "\u001b[1;31m---------------------------------------------------------------------------\u001b[0m",
            "\u001b[1;31mModuleNotFoundError\u001b[0m                       Traceback (most recent call last)",
            "\u001b[1;32m~\\AppData\\Local\\Temp/ipykernel_18724/1408506528.py\u001b[0m in \u001b[0;36m<module>\u001b[1;34m\u001b[0m\n\u001b[1;32m----> 1\u001b[1;33m \u001b[1;32mfrom\u001b[0m \u001b[0mgoogle\u001b[0m\u001b[1;33m.\u001b[0m\u001b[0mcolab\u001b[0m \u001b[1;32mimport\u001b[0m \u001b[0mdrive\u001b[0m\u001b[1;33m\u001b[0m\u001b[1;33m\u001b[0m\u001b[0m\n\u001b[0m\u001b[0;32m      2\u001b[0m \u001b[0mdrive\u001b[0m\u001b[1;33m.\u001b[0m\u001b[0mmount\u001b[0m\u001b[1;33m(\u001b[0m\u001b[1;34m'/content/drive'\u001b[0m\u001b[1;33m)\u001b[0m\u001b[1;33m\u001b[0m\u001b[1;33m\u001b[0m\u001b[0m\n",
            "\u001b[1;31mModuleNotFoundError\u001b[0m: No module named 'google'"
          ]
        }
      ],
      "source": [
        "from google.colab import drive\n",
        "drive.mount('/content/drive')"
      ]
    },
    {
      "cell_type": "markdown",
      "metadata": {
        "id": "HR6Kw9YhJV8A"
      },
      "source": [
        "## 데이터 불러오기"
      ]
    },
    {
      "cell_type": "code",
      "execution_count": null,
      "metadata": {
        "id": "29BsCuUtKjKA"
      },
      "outputs": [],
      "source": [
        "import numpy as np\n",
        "import pandas as pd"
      ]
    },
    {
      "cell_type": "code",
      "execution_count": null,
      "metadata": {
        "id": "KCR3D9shItY9"
      },
      "outputs": [],
      "source": [
        "path = 'heart_clean.csv' # 제공된 csv 파일 사용\n",
        "df = pd.read_csv(path)"
      ]
    },
    {
      "cell_type": "code",
      "execution_count": null,
      "metadata": {
        "colab": {
          "base_uri": "https://localhost:8080/",
          "height": 206
        },
        "id": "S9v7sEpoL0jf",
        "outputId": "98c28b50-5fb8-4efe-9774-005174e48893"
      },
      "outputs": [
        {
          "data": {
            "text/html": [
              "<div>\n",
              "<style scoped>\n",
              "    .dataframe tbody tr th:only-of-type {\n",
              "        vertical-align: middle;\n",
              "    }\n",
              "\n",
              "    .dataframe tbody tr th {\n",
              "        vertical-align: top;\n",
              "    }\n",
              "\n",
              "    .dataframe thead th {\n",
              "        text-align: right;\n",
              "    }\n",
              "</style>\n",
              "<table border=\"1\" class=\"dataframe\">\n",
              "  <thead>\n",
              "    <tr style=\"text-align: right;\">\n",
              "      <th></th>\n",
              "      <th>Age</th>\n",
              "      <th>RestingBP</th>\n",
              "      <th>FastingBS</th>\n",
              "      <th>ExerciseAngina</th>\n",
              "      <th>Oldpeak</th>\n",
              "      <th>HeartDisease</th>\n",
              "    </tr>\n",
              "  </thead>\n",
              "  <tbody>\n",
              "    <tr>\n",
              "      <th>0</th>\n",
              "      <td>53</td>\n",
              "      <td>120</td>\n",
              "      <td>0</td>\n",
              "      <td>0</td>\n",
              "      <td>0.0</td>\n",
              "      <td>0</td>\n",
              "    </tr>\n",
              "    <tr>\n",
              "      <th>1</th>\n",
              "      <td>65</td>\n",
              "      <td>134</td>\n",
              "      <td>0</td>\n",
              "      <td>1</td>\n",
              "      <td>1.1</td>\n",
              "      <td>1</td>\n",
              "    </tr>\n",
              "    <tr>\n",
              "      <th>2</th>\n",
              "      <td>60</td>\n",
              "      <td>160</td>\n",
              "      <td>0</td>\n",
              "      <td>1</td>\n",
              "      <td>0.5</td>\n",
              "      <td>1</td>\n",
              "    </tr>\n",
              "    <tr>\n",
              "      <th>3</th>\n",
              "      <td>57</td>\n",
              "      <td>150</td>\n",
              "      <td>1</td>\n",
              "      <td>0</td>\n",
              "      <td>0.2</td>\n",
              "      <td>0</td>\n",
              "    </tr>\n",
              "    <tr>\n",
              "      <th>4</th>\n",
              "      <td>57</td>\n",
              "      <td>150</td>\n",
              "      <td>0</td>\n",
              "      <td>1</td>\n",
              "      <td>0.6</td>\n",
              "      <td>1</td>\n",
              "    </tr>\n",
              "  </tbody>\n",
              "</table>\n",
              "</div>"
            ],
            "text/plain": [
              "   Age  RestingBP  FastingBS  ExerciseAngina  Oldpeak  HeartDisease\n",
              "0   53        120          0               0      0.0             0\n",
              "1   65        134          0               1      1.1             1\n",
              "2   60        160          0               1      0.5             1\n",
              "3   57        150          1               0      0.2             0\n",
              "4   57        150          0               1      0.6             1"
            ]
          },
          "execution_count": 3,
          "metadata": {},
          "output_type": "execute_result"
        }
      ],
      "source": [
        "df.head()"
      ]
    },
    {
      "cell_type": "markdown",
      "metadata": {
        "id": "fZDTxR6wKuPO"
      },
      "source": [
        "## 데이터 나누기"
      ]
    },
    {
      "cell_type": "markdown",
      "metadata": {
        "id": "h5enxbYKbAhW"
      },
      "source": [
        "### **주의 사항**\n",
        "train_test_split에 random seed를 사용하여 split set을 고정한다.\n",
        "- 모든 문제에 같은 random seed를 부여할 필요는 없다.\n"
      ]
    },
    {
      "cell_type": "code",
      "execution_count": null,
      "metadata": {
        "colab": {
          "base_uri": "https://localhost:8080/"
        },
        "id": "V1zQHUKdKWFz",
        "outputId": "296f68c7-254b-450d-936f-64dbe4067a5f"
      },
      "outputs": [
        {
          "name": "stdout",
          "output_type": "stream",
          "text": [
            "X_train's shape :  (479, 5)\n",
            "y_train's shape :  (479,)\n",
            "\n",
            "X_val's shape :  (160, 5)\n",
            "y_val's shape :  (160,)\n",
            "\n",
            "X_test's shape :  (71, 5)\n",
            "y_test's shape :  (71,)\n"
          ]
        }
      ],
      "source": [
        "from sklearn.model_selection import train_test_split\n",
        "\n",
        "X = df.drop('HeartDisease', axis=1)\n",
        "y = df['HeartDisease']\n",
        "\n",
        "X_train, X_test, y_train, y_test = train_test_split(X, y, test_size=0.1, random_state = 123)\n",
        "X_train, X_val, y_train, y_val = train_test_split(X_train, y_train, random_state = 123)\n",
        "\n",
        "print(\"X_train's shape : \", X_train.shape)\n",
        "print(\"y_train's shape : \", y_train.shape)\n",
        "print(\"\\nX_val's shape : \", X_val.shape)\n",
        "print(\"y_val's shape : \", y_val.shape)\n",
        "print(\"\\nX_test's shape : \", X_test.shape)\n",
        "print(\"y_test's shape : \", y_test.shape)"
      ]
    },
    {
      "cell_type": "markdown",
      "metadata": {
        "id": "wkJmRTz_jNTP"
      },
      "source": [
        "\n",
        "\n",
        "---\n",
        "\n"
      ]
    },
    {
      "cell_type": "markdown",
      "metadata": {
        "id": "P5Gr-LZOLCSP"
      },
      "source": [
        "## 문제1 KNN\n",
        "\n",
        "\n",
        "\n",
        "- Scikit-learn 라이브러리를 이용하여 KNN의 최적의 파라미터를 찾는다.\n",
        "    - 최근접 이웃을 찾기 위한 거리의 종류로 최소한 두 가지 이상의 거리 척도를 사용한다.\n",
        "    - K값을 최소 3개 이상 비교한다.\n",
        "    - 거리 척도, k값에 따라 train, validation 정확도를 한 그래프로 그린다.(x축 k값, y축 정확도)\n",
        "    - 찾은 최적의 파라미터와 test set 이용하여 test_accuracy 계산하고 기입한다.\n",
        "    - 최적의 파라미터를 찾은 것에 대한 설명을 '텍스트 셀'에 작성한다.\n",
        "\n"
      ]
    },
    {
      "cell_type": "code",
      "execution_count": null,
      "metadata": {
        "id": "ME76ne9cdSMa",
        "outputId": "a1be1207-0abb-475c-c0cd-6e7767a85e58"
      },
      "outputs": [
        {
          "name": "stdout",
          "output_type": "stream",
          "text": [
            "최적의 K: \n",
            "3\n",
            "최적의 거리 척도: \n",
            "1\n",
            "test accuracy: \n",
            "0.6197183098591549\n"
          ]
        },
        {
          "data": {
            "image/png": "[encoded data removed]",
            "text/plain": [
              "<Figure size 432x288 with 1 Axes>"
            ]
          },
          "metadata": {
            "needs_background": "light"
          },
          "output_type": "display_data"
        }
      ],
      "source": [
        "### 문제 1 ###\n",
        "## 코드 작성 ##\n",
        "from sklearn.neighbors import KNeighborsClassifier\n",
        "from sklearn.metrics import accuracy_score\n",
        "import matplotlib.pyplot as plt\n",
        "\n",
        "K = [1, 3, 5, 10, 30, 50]\n",
        "train_acc = []\n",
        "val_acc = []\n",
        "train_acc2 = []\n",
        "val_acc2 = []\n",
        "\n",
        "max = 0\n",
        "optimal_idx = 1\n",
        "optimal_method = 0\n",
        "\n",
        "#Manhattan distance\n",
        "for i in K:\n",
        "    #KNN 모델 학습\n",
        "    classifier = KNeighborsClassifier(n_neighbors=i,p=1,metric='minkowski')\n",
        "    classifier.fit(X_train, y_train)\n",
        "    \n",
        "    #validation 데이터로 예측한 결과를 저장\n",
        "    result1 = classifier.predict(X_val) \n",
        "    val_acc.append(accuracy_score(y_val, result1))\n",
        "    \n",
        "    #적의 k와 최적의 거리 척도를 저장\n",
        "    if max < accuracy_score(y_val, result1):\n",
        "        max = accuracy_score(y_val, result1)\n",
        "        optimal_idx = i\n",
        "        optimal_method = 1\n",
        "    \n",
        "    result2 = classifier.predict(X_train)\n",
        "    train_acc.append(accuracy_score(y_train, result2))\n",
        "\n",
        "    \n",
        "#Euclidean distance\n",
        "for i in K:\n",
        "    #KNN 모델 학습\n",
        "    classifier = KNeighborsClassifier(n_neighbors=i,p=2,metric='minkowski')\n",
        "    classifier.fit(X_train, y_train)\n",
        "    \n",
        "    #validation 데이터로 예측한 결과를 저장\n",
        "    result1 = classifier.predict(X_val)\n",
        "    val_acc2.append(accuracy_score(y_val, result1))\n",
        "    \n",
        "    #최적의 k와 최적의 거리 척도를 저장\n",
        "    if max < accuracy_score(y_val, result1):\n",
        "        max = accuracy_score(y_val, result1)\n",
        "        optimal_idx = i\n",
        "        optimal_method = 2\n",
        "    \n",
        "    result2 = classifier.predict(X_train)\n",
        "    train_acc2.append(accuracy_score(y_train, result2))\n",
        "    \n",
        "plt.figure()\n",
        "plt.plot(K, train_acc, label='train accuracy', color = 'r')\n",
        "plt.plot(K, val_acc, label='validation accuracy', color = 'g')\n",
        "plt.plot(K, train_acc2, label='train accuracy', color = 'b')\n",
        "plt.plot(K, val_acc2, label='validation accuracy', color = 'violet')\n",
        "plt.xlabel('K')\n",
        "plt.ylabel('accuracy')\n",
        "\n",
        "print(\"최적의 K: \")\n",
        "print(optimal_idx)\n",
        "print(\"최적의 거리 척도: \")\n",
        "print(optimal_method)\n",
        "\n",
        "\n",
        "\n",
        "test_acc = []\n",
        "\n",
        "#위에서 구한 최적의 K와 최적의 거리척도를 이용하여 테스트\n",
        "final_classifier = KNeighborsClassifier(n_neighbors=optimal_idx,p=optimal_method, metric='minkowski')\n",
        "final_classifier.fit(X_train, y_train)\n",
        "\n",
        "result = classifier.predict(X_test)\n",
        "test_acc.append(accuracy_score(y_test, result))\n",
        "\n",
        "print(\"test accuracy: \")\n",
        "print(accuracy_score(y_test, result))"
      ]
    },
    {
      "cell_type": "markdown",
      "metadata": {
        "id": "8-BMEqCFdfsR"
      },
      "source": [
        "**설명 작성**\n",
        "- 최적의 파라미터: K=3, 거리척도=Manhattan distance\n",
        "- 설명: Manhattan distance와 Euclidean distance로 나누어서 모델링을 진행하였습니다.\n",
        "        위의 그래프에서 초록색이 Manhattan distance로 모델링 한 결과이고, \n",
        "        바이올렛색이 Euclidean distance로 모델링 한 결과입니다.\n",
        "        따라서 Manhattan distance가 최적인 것을 알 수 있고, K=3인 부분에서 가장 높은 accuracy를 가집니다."
      ]
    },
    {
      "cell_type": "markdown",
      "metadata": {
        "id": "kHaSKoowjPp7"
      },
      "source": [
        ""
      ]
    },
    {
      "cell_type": "markdown",
      "metadata": {
        "id": "VA0mzbsiaOoH"
      },
      "source": [
        "## 문제2 SVM\n",
        "\n",
        "\n",
        "- Scikit-learn 라이브러리를 이용하여 SVM의 최적의 파라미터를 찾는다.\n",
        "    - Kernel trick 중 최소 두개를 비교한다.\n",
        "    - 최적의 파라미터 C값을 찾는다.\n",
        "    - 파라미터에 따라 train, validation 정확도를 한 그래프로 그린다.(x축 C값, y축 정확도)\n",
        "    - 찾은 최적의 파라미터와 test set을 이용하여 test accuracy를 계산하고 기입한다.\n",
        "    - 최적의 파라미터를 찾은 것에 대한 설명을 '텍스트 셀'에 작성한다.\n"
      ]
    },
    {
      "cell_type": "code",
      "execution_count": null,
      "metadata": {
        "id": "zZdkdlyMeH_Y",
        "outputId": "3949c3bc-dd50-4d24-fe3d-dab12a1dc03f"
      },
      "outputs": [
        {
          "name": "stdout",
          "output_type": "stream",
          "text": [
            "최적의 C: \n",
            "10\n",
            "최적의 kernel: \n",
            "poly\n",
            "test accuracy: \n",
            "0.676056338028169\n"
          ]
        },
        {
          "data": {
            "image/png": "[encoded data removed]",
            "text/plain": [
              "<Figure size 432x288 with 1 Axes>"
            ]
          },
          "metadata": {
            "needs_background": "light"
          },
          "output_type": "display_data"
        }
      ],
      "source": [
        "### 문제 2 ###\n",
        "## 코드 작성 ##\n",
        "from sklearn import svm\n",
        "\n",
        "C = [0.1, 0.5, 1, 3, 5, 10]\n",
        "\n",
        "max=0\n",
        "kernel_list = [\"rbf\", \"poly\"]\n",
        "optimal_c = 0.1\n",
        "optimal_kernel = 0\n",
        "\n",
        "train_acc1 = []\n",
        "val_acc1 = []\n",
        "train_acc2 = []\n",
        "val_acc2 = []\n",
        "\n",
        "#linear kernel\n",
        "for i in C:\n",
        "    #svm 모델링\n",
        "    classifier = svm.SVC(kernel='rbf', C = i)\n",
        "    classifier.fit(X_train, y_train)\n",
        "    \n",
        "    result1 = classifier.predict(X_train)\n",
        "    train_acc1.append(accuracy_score(y_train, result1))\n",
        "    \n",
        "    #validation 데이터로 예측한 결과를 저장\n",
        "    result2 = classifier.predict(X_val)\n",
        "    val_acc1.append(accuracy_score(y_val, result2))\n",
        "    if max < accuracy_score(y_val, result2):\n",
        "        max = accuracy_score(y_val, result2)\n",
        "        optimal_c = i\n",
        "        optimal_kernel = 0\n",
        "\n",
        "\n",
        "\n",
        "\n",
        "\n",
        "#polynominal kernel\n",
        "for i in C:\n",
        "    #svm모델링\n",
        "    classifier = svm.SVC(kernel='poly', C = i)\n",
        "    classifier.fit(X_train, y_train)\n",
        "    \n",
        "    result1 = classifier.predict(X_train)\n",
        "    train_acc2.append(accuracy_score(y_train, result1))\n",
        "    \n",
        "    #validation 데이터로 예측한 결과를 저장\n",
        "    result2 = classifier.predict(X_val) \n",
        "    val_acc2.append(accuracy_score(y_val, result2))\n",
        "    if max < accuracy_score(y_val, result2):\n",
        "        max = accuracy_score(y_val, result2)\n",
        "        optimal_c = i\n",
        "        optimal_kernel = 1\n",
        "\n",
        "print(\"최적의 C: \")\n",
        "print(optimal_c)\n",
        "print(\"최적의 kernel: \")\n",
        "print(kernel_list[optimal_kernel])\n",
        "\n",
        "\n",
        "plt.figure()\n",
        "plt.plot(C, train_acc1, label='train accuracy', color = 'r')\n",
        "plt.plot(C, val_acc1, label='validation accuracy', color = 'g')\n",
        "plt.plot(C, train_acc2, label='train accuracy', color = 'b')\n",
        "plt.plot(C, val_acc2, label='validation accuracy', color = 'violet')\n",
        "plt.xlabel('C')\n",
        "plt.ylabel('accuracy')\n",
        "\n",
        "\n",
        "\n",
        "#위에서 구한 최적의 C와 최적의 kernel를 이용하여 테스트\n",
        "test_acc = []\n",
        "\n",
        "final_classifier = svm.SVC(kernel=kernel_list[optimal_kernel], C = optimal_c)\n",
        "final_classifier.fit(X_train, y_train)\n",
        "\n",
        "result = classifier.predict(X_test)\n",
        "test_acc.append(accuracy_score(y_test, result))\n",
        "\n",
        "print(\"test accuracy: \")\n",
        "print(accuracy_score(y_test, result))"
      ]
    },
    {
      "cell_type": "markdown",
      "metadata": {
        "id": "y47YT_IleHKq"
      },
      "source": [
        "**설명 작성**  \n",
        "- 최적의 파라미터: C=10, kernel=poly\n",
        "- 설명: 위의 그래프를 보면 violet 색이 poly kernel로 모델링 했을 때고, 초록 색이 linear kernel로 모델링 했을 때다.\n",
        "        poly kernel을 이용했을 때가 accuracy가 더 높은 것을 알 수 있고, 가장 accuracy가 높은 최적의 C는 10이다."
      ]
    },
    {
      "cell_type": "markdown",
      "metadata": {
        "id": "jFA8FPDKkjHC"
      },
      "source": [
        "\n",
        "\n",
        "---\n",
        "\n"
      ]
    },
    {
      "cell_type": "markdown",
      "metadata": {
        "id": "cl1b3f3AaZUw"
      },
      "source": [
        "## 문제3 Cross validation with Random Forest\n",
        "### 3-1: k-fold\n",
        "- 수업시간에 배운 **5-fold** 를 이용하여 최적의 파라미터를 찾는다. (데이터는 동일)\n",
        "- 수업시간에 배운 random forest 모델의 파라미터를 cross-validation을 바탕으로 최적화한다.\n",
        "    - **5-fold CV를 할 때, test data를 제외한 90%의 데이터를 사용해야한다.**\n",
        "    - 파라미터에 따라 K-fold CV를 통해 나온 평균 정확도와 각 fold의 정확도들을 한 그래프로 그린다.(x축 선택한 파라미터, y축 정확도)\n",
        "    - 찾은 최적의 파라미터와 test set을 이용하여 test accuracy를 계산하고 기입한다.\n",
        "    - 최적의 파라미터를 찾은 것에 대한 설명을 '텍스트 셀'에 작성한다.\n",
        "\n",
        "### 3-2: Leave One Out\n",
        "- 수업시간에 배운 Leave-One-Out 를 이용하여 최적의 파라미터를 찾는다. (데이터는 동일)\n",
        "- 수업시간에 배운 random forest 모델의 파라미터를 cross-validation을 바탕으로 최적화한다.\n",
        "  - **Leave-One-Out CV를 할 때, test data를 제외한 90%의 데이터를 사용해야한다.**\n",
        "  - 파라미터에 따라 Leave-One-Out CV를 통해 나온 평균 정확도를 그래프로 그린다.(x축 선택한 파라미터, y축 정확도)\n",
        "  - 찾은 최적의 파라미터와 test set을 이용하여 test accuracy를 계산하고 기입한다.\n",
        "  - 최적의 파라미터를 찾은 것에 대한 설명을 '텍스트 셀'에 작성한다."
      ]
    },
    {
      "cell_type": "code",
      "execution_count": null,
      "metadata": {
        "id": "fYNny36efEF3",
        "outputId": "672627b3-c13d-4dcb-a94f-04c7bae81520"
      },
      "outputs": [
        {
          "name": "stdout",
          "output_type": "stream",
          "text": [
            "최적의 n_estimators 값:\n",
            "50\n",
            "test accuracy: \n",
            "0.676056338028169\n"
          ]
        },
        {
          "data": {
            "image/png": "[encoded data removed]",
            "text/plain": [
              "<Figure size 432x288 with 1 Axes>"
            ]
          },
          "metadata": {
            "needs_background": "light"
          },
          "output_type": "display_data"
        }
      ],
      "source": [
        "### 문제 3-1 ###\n",
        "## 코드 작성 ##\n",
        "from sklearn.model_selection import KFold\n",
        "from sklearn.ensemble import RandomForestClassifier\n",
        "\n",
        "X_train2 = pd.concat([X_train, X_val])\n",
        "y_train2 = pd.concat([y_train, y_val])\n",
        "\n",
        "#n_estimators 파라미터 배열\n",
        "E = [5, 10, 20, 30, 50]\n",
        "\n",
        "cv = KFold(n_splits=5)\n",
        "\n",
        "val_mean_acc = []\n",
        "val_acc = [[],[],[],[],[]]\n",
        "optimal_param = 5;\n",
        "max_acc = 0;\n",
        "\n",
        "loop_param = 0\n",
        "\n",
        "\n",
        "for i in E:\n",
        "    #randomForest 모델링\n",
        "    classifier = RandomForestClassifier(n_estimators=i, random_state = 123)\n",
        "    val_sum = 0\n",
        "    \n",
        "    #5-fold CV\n",
        "    for train_idx,val_idx in cv.split(X_train2):\n",
        "        \n",
        "        X_train, X_val = X_train2.iloc[train_idx], X_train2.iloc[val_idx]\n",
        "        y_train, y_val = y_train2.iloc[train_idx], y_train2.iloc[val_idx]\n",
        "    \n",
        "        classifier.fit(X_train, y_train)\n",
        "\n",
        "        result = classifier.predict(X_val)\n",
        "        val_sum += accuracy_score(y_val, result)\n",
        "        \n",
        "        val_acc[loop_param].append(accuracy_score(y_val, result))\n",
        "        \n",
        "    #n_estimators 파라미터가 i일 때, 평균값\n",
        "    mean = val_sum/5\n",
        "    \n",
        "    #n_estimators 파라미터가 i일때, accuracy가 더 높다면 갱신\n",
        "    if(max_acc < mean):\n",
        "        max_acc = mean\n",
        "        optimal_param = i\n",
        "        \n",
        "    val_mean_acc.append(mean)\n",
        "    loop_param += 1\n",
        "\n",
        "        \n",
        "\n",
        "    \n",
        "plt.figure()\n",
        "plt.plot(E, val_mean_acc, label='val accuracy', color = 'black') #검정색이 평균 정확도\n",
        "plt.plot(E, val_acc, label='val accuracy')\n",
        "plt.xlabel('n_estimators')\n",
        "plt.ylabel('accuracy')\n",
        "\n",
        "\n",
        "\n",
        "classifier = RandomForestClassifier(n_estimators=optimal_param, random_state = 123)\n",
        "classifier.fit(X_train, y_train)\n",
        "result = classifier.predict(X_test)\n",
        "\n",
        "print(\"최적의 n_estimators 값:\")\n",
        "print(optimal_param)\n",
        "\n",
        "print(\"test accuracy: \")\n",
        "print(accuracy_score(y_test, result))"
      ]
    },
    {
      "cell_type": "markdown",
      "metadata": {
        "id": "2xvEdCHAfH0g"
      },
      "source": [
        "**설명 작성**  \n",
        "- test accuracy: 0.676056338028169\n",
        "- 최적의 파라미터: n_estimators=50\n",
        "- 설명: 위의 그래프를 보면 검정색이 파라미터 값별로 accuracy 평균을 나타낸다. n_estimators가 50일 때, 가장 accuracy가 높으므로 \n",
        "        최적의 파라미터를 50으로 정했다.\n",
        "        n_estimators는 decision tree의 개수이다. 통상적으로 decision tree의 개수가 많아질수록 성능이 좋아지지만 시간은 더 오래걸린다.\n",
        "\n"
      ]
    },
    {
      "cell_type": "code",
      "execution_count": null,
      "metadata": {
        "id": "80a5iRmvfG6H",
        "outputId": "4edb1c75-217d-4533-fe17-f0783d0f8425"
      },
      "outputs": [
        {
          "name": "stdout",
          "output_type": "stream",
          "text": [
            "최적의 n_estimators 값:\n",
            "50\n",
            "test accuracy: \n",
            "0.6619718309859155\n"
          ]
        },
        {
          "data": {
            "image/png": "[encoded data removed]",
            "text/plain": [
              "<Figure size 432x288 with 1 Axes>"
            ]
          },
          "metadata": {
            "needs_background": "light"
          },
          "output_type": "display_data"
        }
      ],
      "source": [
        "## 문제 3-2 ###\n",
        "# 코드 작성 ##\n",
        "from sklearn.model_selection import LeaveOneOut\n",
        "\n",
        "X_train2 = pd.concat([X_train, X_val])\n",
        "y_train2 = pd.concat([y_train, y_val])\n",
        "\n",
        "#n_estimators 파라미터 배열\n",
        "E = [5, 10, 20, 30, 50]\n",
        "\n",
        "cv = LeaveOneOut()\n",
        "\n",
        "val_mean_acc = []\n",
        "optimal_param = 5;\n",
        "max_acc = 0;\n",
        "\n",
        "loop_param = 0\n",
        "\n",
        "for i in E:\n",
        "    #randomForest 모델링\n",
        "    classifier = RandomForestClassifier(n_estimators=i, random_state = 123)\n",
        "    val_sum = 0\n",
        "    #Leave one out\n",
        "    for train_idx,val_idx in cv.split(X_train2):\n",
        "        \n",
        "        X_train, X_val = X_train2.iloc[train_idx], X_train2.iloc[val_idx]\n",
        "        y_train, y_val = y_train2.iloc[train_idx], y_train2.iloc[val_idx]\n",
        "    \n",
        "        classifier.fit(X_train, y_train)\n",
        "\n",
        "        result = classifier.predict(X_val)\n",
        "        val_sum += accuracy_score(y_val, result)\n",
        "        \n",
        "    #n_estimators 파라미터가 i일 때, 평균값\n",
        "    mean = val_sum/len(X_train2)\n",
        "    \n",
        "    #n_estimators 파라미터가 i일때, accuracy가 더 높다면 갱신\n",
        "    if(max_acc < mean):\n",
        "        max_acc = mean\n",
        "        optimal_param = i\n",
        "        \n",
        "    val_mean_acc.append(mean)\n",
        "    loop_param += 1\n",
        "\n",
        "        \n",
        "\n",
        "    \n",
        "plt.figure()\n",
        "plt.plot(E, val_mean_acc, label='val accuracy', color = 'violet')\n",
        "plt.xlabel('n_estimators')\n",
        "plt.ylabel('accuracy')\n",
        "\n",
        "\n",
        "\n",
        "test_acc = []\n",
        "classifier = RandomForestClassifier(n_estimators=optimal_param, random_state = 123)\n",
        "classifier.fit(X_train, y_train)\n",
        "result = classifier.predict(X_test)\n",
        "test_acc.append(accuracy_score(y_test, result))\n",
        "\n",
        "print(\"최적의 n_estimators 값:\")\n",
        "print(optimal_param)\n",
        "print(\"test accuracy: \")\n",
        "print(accuracy_score(y_test, result))\n",
        "\n"
      ]
    },
    {
      "cell_type": "markdown",
      "metadata": {
        "id": "m9BqByTFfLIG"
      },
      "source": [
        "**설명 작성**  \n",
        "- test accuracy: 0.6619718309859155\n",
        "- 최적의 파라미터: n_estimators=50\n",
        "- 설명: 위의 그래프는 파라미터의 값별로 accuracy 평균을 나타낸다. n_estimators가 50일 때, 가장 accuracy가 높으므로 \n",
        "        최적의 파라미터를 50으로 정했다.\n",
        "        n_estimators는 decision tree의 개수이다. 통상적으로 decision tree의 개수가 많아질수록 성능이 좋아지지만 시간은 더 오래걸린다."
      ]
    },
    {
      "cell_type": "markdown",
      "metadata": {
        "id": "BlvQjbXJkllk"
      },
      "source": [
        "\n",
        "\n",
        "---\n",
        "\n"
      ]
    },
    {
      "cell_type": "markdown",
      "metadata": {
        "id": "szX5GgcXfnM1"
      },
      "source": [
        "## 문제4 Regression\n",
        "문제 4 에서는 캘리포니아 주택 가격 데이터셋을 사용합니다.   \n",
        "학습을 통해 주택 가격을 예측하는 문제입니다.  \n",
        "데이터에 대한 자세한 설명은 아래 코드의 description을 참고해주세요."
      ]
    },
    {
      "cell_type": "code",
      "execution_count": null,
      "metadata": {
        "colab": {
          "base_uri": "https://localhost:8080/"
        },
        "id": "v7mbmrTRinak",
        "outputId": "0fea7994-518b-4376-cf41-49bc9bd11249"
      },
      "outputs": [
        {
          "name": "stdout",
          "output_type": "stream",
          "text": [
            ".. _california_housing_dataset:\n",
            "\n",
            "California Housing dataset\n",
            "--------------------------\n",
            "\n",
            "**Data Set Characteristics:**\n",
            "\n",
            "    :Number of Instances: 20640\n",
            "\n",
            "    :Number of Attributes: 8 numeric, predictive attributes and the target\n",
            "\n",
            "    :Attribute Information:\n",
            "        - MedInc        median income in block\n",
            "        - HouseAge      median house age in block\n",
            "        - AveRooms      average number of rooms\n",
            "        - AveBedrms     average number of bedrooms\n",
            "        - Population    block population\n",
            "        - AveOccup      average house occupancy\n",
            "        - Latitude      house block latitude\n",
            "        - Longitude     house block longitude\n",
            "\n",
            "    :Missing Attribute Values: None\n",
            "\n",
            "This dataset was obtained from the StatLib repository.\n",
            "http://lib.stat.cmu.edu/datasets/\n",
            "\n",
            "The target variable is the median house value for California districts.\n",
            "\n",
            "This dataset was derived from the 1990 U.S. census, using one row per census\n",
            "block group. A block group is the smallest geographical unit for which the U.S.\n",
            "Census Bureau publishes sample data (a block group typically has a population\n",
            "of 600 to 3,000 people).\n",
            "\n",
            "It can be downloaded/loaded using the\n",
            ":func:`sklearn.datasets.fetch_california_housing` function.\n",
            "\n",
            ".. topic:: References\n",
            "\n",
            "    - Pace, R. Kelley and Ronald Barry, Sparse Spatial Autoregressions,\n",
            "      Statistics and Probability Letters, 33 (1997) 291-297\n",
            "\n"
          ]
        }
      ],
      "source": [
        "from sklearn.datasets import fetch_california_housing\n",
        "housing = fetch_california_housing()\n",
        "print(housing.DESCR)"
      ]
    },
    {
      "cell_type": "code",
      "execution_count": null,
      "metadata": {
        "id": "beqDbNzQi0PR"
      },
      "outputs": [],
      "source": [
        "df = pd.DataFrame(housing.data, columns=housing.feature_names)\n",
        "df['target'] = housing.target"
      ]
    },
    {
      "cell_type": "code",
      "execution_count": null,
      "metadata": {
        "colab": {
          "base_uri": "https://localhost:8080/"
        },
        "id": "Y-4fgqWCkd-o",
        "outputId": "c352e69a-4e8e-4817-ff0a-a75c9e5132e4"
      },
      "outputs": [
        {
          "name": "stdout",
          "output_type": "stream",
          "text": [
            "   MedInc  HouseAge  AveRooms  AveBedrms  Population  AveOccup  Latitude  \\\n",
            "0  8.3252      41.0  6.984127   1.023810       322.0  2.555556     37.88   \n",
            "1  8.3014      21.0  6.238137   0.971880      2401.0  2.109842     37.86   \n",
            "2  7.2574      52.0  8.288136   1.073446       496.0  2.802260     37.85   \n",
            "3  5.6431      52.0  5.817352   1.073059       558.0  2.547945     37.85   \n",
            "4  3.8462      52.0  6.281853   1.081081       565.0  2.181467     37.85   \n",
            "\n",
            "   Longitude  target  \n",
            "0    -122.23   4.526  \n",
            "1    -122.22   3.585  \n",
            "2    -122.24   3.521  \n",
            "3    -122.25   3.413  \n",
            "4    -122.25   3.422  \n"
          ]
        }
      ],
      "source": [
        "print(df.head())"
      ]
    },
    {
      "cell_type": "code",
      "execution_count": null,
      "metadata": {
        "colab": {
          "base_uri": "https://localhost:8080/"
        },
        "id": "zoUn3ZXdkimJ",
        "outputId": "351d3c74-a02b-4123-b14b-d9a574a561ef"
      },
      "outputs": [
        {
          "name": "stdout",
          "output_type": "stream",
          "text": [
            "(20640, 9)\n",
            "             MedInc      HouseAge      AveRooms     AveBedrms    Population  \\\n",
            "count  20640.000000  20640.000000  20640.000000  20640.000000  20640.000000   \n",
            "mean       3.870671     28.639486      5.429000      1.096675   1425.476744   \n",
            "std        1.899822     12.585558      2.474173      0.473911   1132.462122   \n",
            "min        0.499900      1.000000      0.846154      0.333333      3.000000   \n",
            "25%        2.563400     18.000000      4.440716      1.006079    787.000000   \n",
            "50%        3.534800     29.000000      5.229129      1.048780   1166.000000   \n",
            "75%        4.743250     37.000000      6.052381      1.099526   1725.000000   \n",
            "max       15.000100     52.000000    141.909091     34.066667  35682.000000   \n",
            "\n",
            "           AveOccup      Latitude     Longitude        target  \n",
            "count  20640.000000  20640.000000  20640.000000  20640.000000  \n",
            "mean       3.070655     35.631861   -119.569704      2.068558  \n",
            "std       10.386050      2.135952      2.003532      1.153956  \n",
            "min        0.692308     32.540000   -124.350000      0.149990  \n",
            "25%        2.429741     33.930000   -121.800000      1.196000  \n",
            "50%        2.818116     34.260000   -118.490000      1.797000  \n",
            "75%        3.282261     37.710000   -118.010000      2.647250  \n",
            "max     1243.333333     41.950000   -114.310000      5.000010  \n"
          ]
        }
      ],
      "source": [
        "print(df.shape) #(20640, 9)\n",
        "print(df.describe())"
      ]
    },
    {
      "cell_type": "markdown",
      "metadata": {
        "id": "G3_Z_2mO7WkB"
      },
      "source": [
        "### 문제 4-1 : Pearson Correlation\n",
        "- seaborn 패키지를 사용하여 pearson correlation heatmap을 그린다.\n",
        "- heatmap을 확인한 후 각 feature들 간 어떠한 관계가 있는지 아래의 텍스트 셀에 서술한다.    \n",
        "- target과 연관성이 높은 feature의 column들을 아래의 텍스트 셀에 기술한다.\n",
        "- 기술한 columns들과 target column을 포함하여 DataFrame을 만들고 **이후 모든 문제에서는 이 DataFrame을 사용한다**."
      ]
    },
    {
      "cell_type": "code",
      "execution_count": null,
      "metadata": {
        "id": "3YiBgTBYFlOs",
        "outputId": "0340637b-19c8-49fe-f9ad-2a4fe800a4d2"
      },
      "outputs": [
        {
          "data": {
            "text/plain": [
              "<AxesSubplot:>"
            ]
          },
          "execution_count": 13,
          "metadata": {},
          "output_type": "execute_result"
        },
        {
          "data": {
            "image/png": "[encoded data removed]",
            "text/plain": [
              "<Figure size 792x648 with 2 Axes>"
            ]
          },
          "metadata": {
            "needs_background": "light"
          },
          "output_type": "display_data"
        }
      ],
      "source": [
        "### 문제 4-1 ###\n",
        "# correlation map 작성 후 plot\n",
        "import seaborn as sns\n",
        "\n",
        "corr = df.corr()\n",
        "mask = np.triu(np.ones_like(corr, dtype=bool))\n",
        "f, ax = plt.subplots(figsize=(11, 9))\n",
        "\n",
        "#cmap을 만든후에 heatmap 생성\n",
        "cmap = sns.diverging_palette(230, 20, as_cmap=True)\n",
        "sns.heatmap(corr, mask=mask, cmap=cmap, vmax=.3, center=0, annot = True,\n",
        "            square=True, linewidths=.5, cbar_kws={\"shrink\": .5})"
      ]
    },
    {
      "cell_type": "markdown",
      "metadata": {
        "id": "onkXpOqZ_Aal"
      },
      "source": [
        "- **Feature들 간 관계 서술**  \n",
        "  답: 상관 계수는 -1 ~ 1 사이의 값을 가지며, 1또는 -1에 가까울수록 두 Feature사이에 연관성이 크다고 할 수 있다.\n",
        "  상관 계수가 양수인 경우, 한 변수의 값이 커지면 다른 변수의 값도 커지고 \n",
        "  상관 관계가 음수인 경우, 한 변수의 값이 커지면 다른 변수의 값은 작아진다.\n",
        "  \n",
        "  어느정도의 상관관계가 있는 feature들간의 관계만 서술해보면(절댓값 0.1 이상으로 한다)\n",
        "  \n",
        "  음의 상관관계:\n",
        "      AveRooms - HouseAge, Population - HouseAge, Longtitude - HouseAge, Latitude - Pipulation, Longtitude - Latitude\n",
        "  양의 상관관계:\n",
        "      AveRooms - MedInc, AveBedrms - AveRooms, Latitude - AveRooms, Longitude - Population\n",
        "  \n",
        "\n",
        "- **최종 선택한 feature들**  \n",
        "  답: MedInc, HouseAge, AveRooms, Latatude"
      ]
    },
    {
      "cell_type": "code",
      "execution_count": null,
      "metadata": {
        "id": "GDXuxL65j7Gy",
        "outputId": "4ed23f57-1a89-4e75-f313-4276388f29ff"
      },
      "outputs": [
        {
          "data": {
            "text/html": [
              "<div>\n",
              "<style scoped>\n",
              "    .dataframe tbody tr th:only-of-type {\n",
              "        vertical-align: middle;\n",
              "    }\n",
              "\n",
              "    .dataframe tbody tr th {\n",
              "        vertical-align: top;\n",
              "    }\n",
              "\n",
              "    .dataframe thead th {\n",
              "        text-align: right;\n",
              "    }\n",
              "</style>\n",
              "<table border=\"1\" class=\"dataframe\">\n",
              "  <thead>\n",
              "    <tr style=\"text-align: right;\">\n",
              "      <th></th>\n",
              "      <th>MedInc</th>\n",
              "      <th>HouseAge</th>\n",
              "      <th>AveRooms</th>\n",
              "      <th>Latitude</th>\n",
              "      <th>target</th>\n",
              "    </tr>\n",
              "  </thead>\n",
              "  <tbody>\n",
              "    <tr>\n",
              "      <th>0</th>\n",
              "      <td>8.3252</td>\n",
              "      <td>41.0</td>\n",
              "      <td>6.984127</td>\n",
              "      <td>37.88</td>\n",
              "      <td>4.526</td>\n",
              "    </tr>\n",
              "    <tr>\n",
              "      <th>1</th>\n",
              "      <td>8.3014</td>\n",
              "      <td>21.0</td>\n",
              "      <td>6.238137</td>\n",
              "      <td>37.86</td>\n",
              "      <td>3.585</td>\n",
              "    </tr>\n",
              "    <tr>\n",
              "      <th>2</th>\n",
              "      <td>7.2574</td>\n",
              "      <td>52.0</td>\n",
              "      <td>8.288136</td>\n",
              "      <td>37.85</td>\n",
              "      <td>3.521</td>\n",
              "    </tr>\n",
              "    <tr>\n",
              "      <th>3</th>\n",
              "      <td>5.6431</td>\n",
              "      <td>52.0</td>\n",
              "      <td>5.817352</td>\n",
              "      <td>37.85</td>\n",
              "      <td>3.413</td>\n",
              "    </tr>\n",
              "    <tr>\n",
              "      <th>4</th>\n",
              "      <td>3.8462</td>\n",
              "      <td>52.0</td>\n",
              "      <td>6.281853</td>\n",
              "      <td>37.85</td>\n",
              "      <td>3.422</td>\n",
              "    </tr>\n",
              "    <tr>\n",
              "      <th>...</th>\n",
              "      <td>...</td>\n",
              "      <td>...</td>\n",
              "      <td>...</td>\n",
              "      <td>...</td>\n",
              "      <td>...</td>\n",
              "    </tr>\n",
              "    <tr>\n",
              "      <th>20635</th>\n",
              "      <td>1.5603</td>\n",
              "      <td>25.0</td>\n",
              "      <td>5.045455</td>\n",
              "      <td>39.48</td>\n",
              "      <td>0.781</td>\n",
              "    </tr>\n",
              "    <tr>\n",
              "      <th>20636</th>\n",
              "      <td>2.5568</td>\n",
              "      <td>18.0</td>\n",
              "      <td>6.114035</td>\n",
              "      <td>39.49</td>\n",
              "      <td>0.771</td>\n",
              "    </tr>\n",
              "    <tr>\n",
              "      <th>20637</th>\n",
              "      <td>1.7000</td>\n",
              "      <td>17.0</td>\n",
              "      <td>5.205543</td>\n",
              "      <td>39.43</td>\n",
              "      <td>0.923</td>\n",
              "    </tr>\n",
              "    <tr>\n",
              "      <th>20638</th>\n",
              "      <td>1.8672</td>\n",
              "      <td>18.0</td>\n",
              "      <td>5.329513</td>\n",
              "      <td>39.43</td>\n",
              "      <td>0.847</td>\n",
              "    </tr>\n",
              "    <tr>\n",
              "      <th>20639</th>\n",
              "      <td>2.3886</td>\n",
              "      <td>16.0</td>\n",
              "      <td>5.254717</td>\n",
              "      <td>39.37</td>\n",
              "      <td>0.894</td>\n",
              "    </tr>\n",
              "  </tbody>\n",
              "</table>\n",
              "<p>20640 rows × 5 columns</p>\n",
              "</div>"
            ],
            "text/plain": [
              "       MedInc  HouseAge  AveRooms  Latitude  target\n",
              "0      8.3252      41.0  6.984127     37.88   4.526\n",
              "1      8.3014      21.0  6.238137     37.86   3.585\n",
              "2      7.2574      52.0  8.288136     37.85   3.521\n",
              "3      5.6431      52.0  5.817352     37.85   3.413\n",
              "4      3.8462      52.0  6.281853     37.85   3.422\n",
              "...       ...       ...       ...       ...     ...\n",
              "20635  1.5603      25.0  5.045455     39.48   0.781\n",
              "20636  2.5568      18.0  6.114035     39.49   0.771\n",
              "20637  1.7000      17.0  5.205543     39.43   0.923\n",
              "20638  1.8672      18.0  5.329513     39.43   0.847\n",
              "20639  2.3886      16.0  5.254717     39.37   0.894\n",
              "\n",
              "[20640 rows x 5 columns]"
            ]
          },
          "execution_count": 191,
          "metadata": {},
          "output_type": "execute_result"
        }
      ],
      "source": [
        "### 문제 4-1 ###\n",
        "# 새 dataframe 만들기 \n",
        "df_final = df[['MedInc', 'HouseAge', 'AveRooms', 'Latitude', 'target']]\n",
        "df_final"
      ]
    },
    {
      "cell_type": "markdown",
      "metadata": {
        "id": "uMo7ufW3_TXX"
      },
      "source": [
        "### 문제 4-2: MSE, r2 score\n",
        "- Scikit-learn 라이브러리의 LinearRegression 모델을 사용한다.\n",
        "- train data는 test data를 제외한 **90%의 데이터를 사용**해야한다.\n",
        "- **Mean Square Error(MSE)**와 **r2 score**를 사용하여 train set에 대한 prediction 결과와 test set에 대한 prediction 결과를 구해 print 한다.\n",
        "- Prediction 결과를 바탕으로 학습한 LinearRegression 모델의 overfit, underfit 여부와 판단 근거를 텍스트 셀에 서술한다."
      ]
    },
    {
      "cell_type": "code",
      "execution_count": null,
      "metadata": {
        "id": "UgKvcwQXCLhx",
        "outputId": "7d5b3085-4b50-4a1a-f1b8-de972267f713"
      },
      "outputs": [
        {
          "name": "stdout",
          "output_type": "stream",
          "text": [
            "train set에 대한 예측 결과(r2_score): \n",
            "0.5201977780825231\n",
            "train set에 대한 예측 결과(MSE): \n",
            "0.6374156747601125\n",
            "\n",
            "\n",
            "test set에 대한 예측 결과(r2_score): \n",
            "0.5075601374647168\n",
            "test set에 대한 예측 결과(MSE): \n",
            "0.6685140903247369\n"
          ]
        }
      ],
      "source": [
        "### 문제 4-2 ###\n",
        "## 코드 작성 ##\n",
        "from sklearn.linear_model import LinearRegression\n",
        "from sklearn.metrics import r2_score\n",
        "from sklearn.metrics import mean_squared_error\n",
        "\n",
        "X = df_final.drop(['target'], axis=1)\n",
        "y = df_final['target']\n",
        "X_train, X_test, y_train, y_test = train_test_split(X, y, test_size=0.1, random_state = 112623)\n",
        "\n",
        "X_train.reset_index(drop=True, inplace=True)\n",
        "X_test.reset_index(drop=True, inplace=True)\n",
        "y_train.reset_index(drop=True, inplace=True)\n",
        "y_test.reset_index(drop=True, inplace=True)\n",
        "\n",
        "model = LinearRegression()\n",
        "model.fit(X_train, y_train)\n",
        "\n",
        "y_train_pred = model.predict(X_train)\n",
        "y_pred = model.predict(X_test)\n",
        "\n",
        "print(\"train set에 대한 예측 결과(r2_score): \")\n",
        "print(r2_score(y_train, y_train_pred))\n",
        "print(\"train set에 대한 예측 결과(MSE): \")\n",
        "print(mean_squared_error(y_train, y_train_pred))\n",
        "print(\"\\n\")\n",
        "print(\"test set에 대한 예측 결과(r2_score): \")\n",
        "print(r2_score(y_test, y_pred))\n",
        "print(\"test set에 대한 예측 결과(MSE): \")\n",
        "print(mean_squared_error(y_test, y_pred))"
      ]
    },
    {
      "cell_type": "markdown",
      "metadata": {
        "id": "rcgD51UhEKOE"
      },
      "source": [
        "**Prediction 결과를 바탕으로 학습한 LinearRegression 모델의 overfit, underfit 여부와 판단 근거를 서술**   \n",
        "답: \n",
        "r2 score가 1에 가까워질수록 학습 데이터에 fit되어 있음을 나타내고, 0에 가까울수록 학습 데이터에 fit되지 않았음을 나타낸다.\n",
        "해당 모델에서는 train set, test set에서 모두 r2 score 값이 약 0.5의 값을 가지고 있으므로 overfit하지도 underfit하지도 않는다. \n",
        "또한, test set으로 예측했을때와 train set으로 예측했을때의 r2_score, MSE 값의 차이도 거의 없으므로 적절하게 fit되었다고 판단할 수 있다."
      ]
    },
    {
      "cell_type": "markdown",
      "metadata": {
        "id": "0OGUhsrgEwR_"
      },
      "source": [
        "### 문제 4-3: Regularized Model\n",
        "- Scikit-learn 라이브러리를 사용하여 Ridge Regression과 Lasso Regression 모델을 만든다.\n",
        "- train : validation : test **데이터셋의 비율을 8:1:1**로 설정한다.\n",
        "- 다양한 alpha 값에 대해 validation dataset을 사용하여 각 모델에 대한 **최적의 alpha 값을 찾고 찾은 최적의 alpha 값을 텍스트 셀에 작성**한다.\n",
        "- alpha 값은 아래의 리스트를 사용한다.  \n",
        "```alpha = [0.0001, 0.001,0.01,0.1,10]```\n",
        "- alpha 값에 대한 R2 score의 변화를 그래프로 나타낸다.\n",
        "  * **x축: alpha 값**\n",
        "  * **y축: R2 score 값**\n",
        "  * 파란색 선: Ridge 결과, 빨간색 선: Lasso 결과\n",
        "  * 그래프에 **legend**가 포함되어 있어야 한다. \n",
        "- **train과 validation dataset을 합하여 train set을 만든 후 최종 학습 결과를 도출**한다.\n",
        "  * 최적의 alpha 값을 찾을 때 사용한 test set은 변하지 않는다. \n",
        "  * r2 score를 사용하여 train set에 대한 prediction 결과와 test set에 대한 prediction 결과를 구해 print 한다."
      ]
    },
    {
      "cell_type": "code",
      "execution_count": null,
      "metadata": {
        "id": "5XHRyFjsZyJ5",
        "outputId": "bf584075-d18c-47c7-f137-45aca5d80de0"
      },
      "outputs": [
        {
          "name": "stdout",
          "output_type": "stream",
          "text": [
            "ridge regression의 최적의 alpha: \n",
            "0.0001\n",
            "lasso regression의 최적의 alpha: \n",
            "0.0001\n"
          ]
        }
      ],
      "source": [
        "### 문제 4-3 ###\n",
        "## 코드 작성 ##\n",
        "\n",
        "from sklearn.linear_model import Ridge, Lasso\n",
        "\n",
        "X = df_final.drop(['target'], axis=1)\n",
        "y = df_final['target']\n",
        "X_train, X_test, y_train, y_test = train_test_split(X, y, test_size=0.1, random_state = 123)\n",
        "X_train, X_val, y_train, y_val = train_test_split(X_train, y_train, test_size=1/9,random_state=123)\n",
        "\n",
        "alpha = [0.0001, 0.001, 0.01, 0.1, 10]\n",
        "\n",
        "ridge_r2 = []\n",
        "lasso_r2 = []\n",
        "optimal_alpha_ridge = 0.0001\n",
        "optimal_alpha_lasso = 0.0001\n",
        "max_r2_ridge = -1\n",
        "max_r2_lasso = -1\n",
        "\n",
        "#alpha 파라미터에 따른 R2 score\n",
        "for i in alpha:\n",
        "    #Ridge 모델링\n",
        "    ridge = Ridge(alpha=i, random_state=123)\n",
        "    ridge.fit(X_train, y_train)\n",
        "    ridge_result = ridge.predict(X_val)\n",
        "    \n",
        "    #Lasso 모델링\n",
        "    lasso = Lasso(alpha=i, random_state=123)\n",
        "    lasso.fit(X_train, y_train)\n",
        "    lasso_result = lasso.predict(X_val)\n",
        "    \n",
        "    #r2_score 구하기\n",
        "    r2_score_ridge = r2_score(y_val, ridge_result)\n",
        "    r2_score_lasso = r2_score(y_val, lasso_result)\n",
        "    \n",
        "    #최적의 파라미터 선정\n",
        "    if max_r2_ridge < r2_score_ridge:\n",
        "        max_r2_ridge = r2_score_ridge\n",
        "        optimal_alpha_ridge = i\n",
        "        \n",
        "    if max_r2_lasso < r2_score_lasso:\n",
        "        max_r2_lasso = r2_score_lasso\n",
        "        optimal_alpha_lasso = i\n",
        "    \n",
        "    ridge_r2.append(r2_score_ridge)\n",
        "    lasso_r2.append(r2_score_lasso)\n",
        "\n",
        "    \n",
        "print(\"ridge regression의 최적의 alpha: \") \n",
        "print(optimal_alpha_ridge)\n",
        "\n",
        "print(\"lasso regression의 최적의 alpha: \") \n",
        "print(optimal_alpha_lasso)"
      ]
    },
    {
      "cell_type": "code",
      "execution_count": null,
      "metadata": {
        "id": "2ZJbj9r2Z4LP",
        "outputId": "f4388f8e-4e2d-47e3-b38e-1209fb0028a4"
      },
      "outputs": [
        {
          "data": {
            "text/plain": [
              "<matplotlib.legend.Legend at 0x2db1aa136a0>"
            ]
          },
          "execution_count": 194,
          "metadata": {},
          "output_type": "execute_result"
        },
        {
          "data": {
            "image/png": "[encoded data removed]",
            "text/plain": [
              "<Figure size 432x288 with 1 Axes>"
            ]
          },
          "metadata": {
            "needs_background": "light"
          },
          "output_type": "display_data"
        }
      ],
      "source": [
        "### 문제 4-3 ###\n",
        "## 그래프 작성 ##\n",
        "plt.figure()\n",
        "plt.plot(alpha, ridge_r2, label='ridge', color = 'blue')\n",
        "plt.plot(alpha, lasso_r2, label='lasso', color = 'red')\n",
        "plt.xlabel('alpha')\n",
        "plt.ylabel('R2 score')\n",
        "plt.legend(['Ridge', 'Lasso'])"
      ]
    },
    {
      "cell_type": "markdown",
      "metadata": {
        "id": "DS8x1JmkZ6Yl"
      },
      "source": [
        "- Rridge regression 모델 최적의 alpha 값: 0.0001\n",
        "- Lasso regression 모델 최적의 alpha 값: 0.0001"
      ]
    },
    {
      "cell_type": "code",
      "execution_count": null,
      "metadata": {
        "id": "zio0ZtfdiXCF",
        "outputId": "d11c3018-95f8-45cd-fd0b-7f793a325739"
      },
      "outputs": [
        {
          "name": "stdout",
          "output_type": "stream",
          "text": [
            "====train set에 대한 prediction 결과====\n",
            "Ridge: \n",
            "0.5184810895788193\n",
            "Lasso: \n",
            "0.518481083672055\n",
            "====test set에 대한 prediction 결과====\n",
            "Ridge: \n",
            "0.5219719241147514\n",
            "Lasso: \n",
            "0.5219713510629771\n"
          ]
        }
      ],
      "source": [
        "### 문제 4-3 ###\n",
        "# 최종 결과 출력\n",
        "\n",
        "#random_state가 위와 동일하므로 위와 같은 test data이다.\n",
        "X_train, X_test, y_train, y_test = train_test_split(X, y, test_size=0.1, random_state = 123) \n",
        "\n",
        "#최적의 파라미터를 이용한 Ridge 모델링\n",
        "ridge = Ridge(alpha=optimal_alpha_ridge, random_state=123)\n",
        "ridge.fit(X_train, y_train)\n",
        "\n",
        "ridge_result = ridge.predict(X_test)\n",
        "ridge_result_train = ridge.predict(X_train)\n",
        "\n",
        "r2_score_ridge = r2_score(y_test, ridge_result)\n",
        "r2_score_train_ridge = r2_score(y_train, ridge_result_train)\n",
        "\n",
        "\n",
        "#최적의 파라미터를 이용한 Lasso 모델링\n",
        "lasso = Lasso(alpha=optimal_alpha_lasso, random_state=123)\n",
        "lasso.fit(X_train, y_train)\n",
        "\n",
        "lasso_result = lasso.predict(X_test)\n",
        "lasso_result_train = lasso.predict(X_train)\n",
        "\n",
        "r2_score_lasso = r2_score(y_test, lasso_result)\n",
        "r2_score_train_lasso = r2_score(y_train, lasso_result_train)\n",
        "\n",
        "print(\"====train set에 대한 prediction 결과====\")\n",
        "print(\"Ridge: \")\n",
        "print(r2_score_train_ridge)\n",
        "print(\"Lasso: \")\n",
        "print(r2_score_train_lasso)\n",
        "\n",
        "print(\"====test set에 대한 prediction 결과====\")\n",
        "print(\"Ridge: \")\n",
        "print(r2_score_ridge)\n",
        "print(\"Lasso: \")\n",
        "print(r2_score_lasso)"
      ]
    }
  ],
  "metadata": {
    "colab": {
      "collapsed_sections": [],
      "name": "HW3.ipynb",
      "provenance": [],
      "include_colab_link": true
    },
    "kernelspec": {
      "display_name": "Python 3 (ipykernel)",
      "language": "python",
      "name": "python3"
    },
    "language_info": {
      "codemirror_mode": {
        "name": "ipython",
        "version": 3
      },
      "file_extension": ".py",
      "mimetype": "text/x-python",
      "name": "python",
      "nbconvert_exporter": "python",
      "pygments_lexer": "ipython3",
      "version": "3.9.7"
    }
  },
  "nbformat": 4,
  "nbformat_minor": 0
}